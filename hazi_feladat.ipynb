{
    "metadata": {
        "kernelspec": {
            "name": "SQL",
            "display_name": "SQL",
            "language": "sql"
        },
        "language_info": {
            "name": "sql",
            "version": ""
        }
    },
    "nbformat_minor": 2,
    "nbformat": 4,
    "cells": [
        {
            "cell_type": "code",
            "source": [
                "SELECT MIN(CSILLAGOK_SZAMA) AS value_min, \r\n",
                "       MAX(CSILLAGOK_SZAMA) AS value_max\r\n",
                "FROM Szallashely\r\n",
                "WHERE CSILLAGOK_SZAMA IS NOT NULL"
            ],
            "metadata": {
                "azdata_cell_guid": "6ab9f633-a3b5-48c9-a1dc-4fb8235ae85b",
                "language": "sql"
            },
            "outputs": [
                {
                    "output_type": "display_data",
                    "data": {
                        "text/html": "(1 row affected)"
                    },
                    "metadata": {}
                },
                {
                    "output_type": "display_data",
                    "data": {
                        "text/html": "Total execution time: 00:00:00.176"
                    },
                    "metadata": {}
                },
                {
                    "output_type": "execute_result",
                    "metadata": {},
                    "execution_count": 2,
                    "data": {
                        "application/vnd.dataresource+json": {
                            "schema": {
                                "fields": [
                                    {
                                        "name": "value_min"
                                    },
                                    {
                                        "name": "value_max"
                                    }
                                ]
                            },
                            "data": [
                                {
                                    "value_min": "0",
                                    "value_max": "4"
                                }
                            ]
                        },
                        "text/html": [
                            "<table>",
                            "<tr><th>value_min</th><th>value_max</th></tr>",
                            "<tr><td>0</td><td>4</td></tr>",
                            "</table>"
                        ]
                    }
                }
            ],
            "execution_count": 2
        },
        {
            "cell_type": "code",
            "source": [
                "SELECT TOP 3\r\n",
                "    SZALLAS_NEV AS value, \r\n",
                "    COUNT(*)\r\n",
                "from Szallashely\r\n",
                "WHERE SZALLAS_NEV IS NOT null\r\n",
                "GROUP BY SZALLAS_NEV\r\n",
                "ORDER BY COUNT(*) desc"
            ],
            "metadata": {
                "azdata_cell_guid": "6c978663-3654-42df-a595-9b5bdeff0533",
                "language": "sql"
            },
            "outputs": [
                {
                    "output_type": "display_data",
                    "data": {
                        "text/html": "(3 rows affected)"
                    },
                    "metadata": {}
                },
                {
                    "output_type": "display_data",
                    "data": {
                        "text/html": "Total execution time: 00:00:00.105"
                    },
                    "metadata": {}
                },
                {
                    "output_type": "execute_result",
                    "metadata": {},
                    "execution_count": 3,
                    "data": {
                        "application/vnd.dataresource+json": {
                            "schema": {
                                "fields": [
                                    {
                                        "name": "value"
                                    },
                                    {
                                        "name": "(No column name)"
                                    }
                                ]
                            },
                            "data": [
                                {
                                    "value": "Fortuna panzió",
                                    "(No column name)": "2"
                                },
                                {
                                    "value": "Fortuna Apartman",
                                    "(No column name)": "2"
                                },
                                {
                                    "value": "Nyárfás Vendégház",
                                    "(No column name)": "2"
                                }
                            ]
                        },
                        "text/html": [
                            "<table>",
                            "<tr><th>value</th><th>(No column name)</th></tr>",
                            "<tr><td>Fortuna panzió</td><td>2</td></tr>",
                            "<tr><td>Fortuna Apartman</td><td>2</td></tr>",
                            "<tr><td>Nyárfás Vendégház</td><td>2</td></tr>",
                            "</table>"
                        ]
                    }
                }
            ],
            "execution_count": 3
        },
        {
            "cell_type": "code",
            "source": [
                "SELECT row_type,\r\n",
                "    COUNT(*)\r\n",
                "FROM \r\n",
                "    (SELECT \r\n",
                "        CASE WHEN cim IS NULL THEN 'Null'\r\n",
                "            ELSE 'Non Empty' \r\n",
                "            END AS row_type\r\n",
                "        FROM szallashely) rows\r\n",
                "GROUP BY row_type"
            ],
            "metadata": {
                "azdata_cell_guid": "8d71fe6a-8ac6-4f89-a818-4a44777f9947",
                "language": "sql"
            },
            "outputs": [
                {
                    "output_type": "display_data",
                    "data": {
                        "text/html": "(1 row affected)"
                    },
                    "metadata": {}
                },
                {
                    "output_type": "display_data",
                    "data": {
                        "text/html": "Total execution time: 00:00:00.071"
                    },
                    "metadata": {}
                },
                {
                    "output_type": "execute_result",
                    "metadata": {},
                    "execution_count": 17,
                    "data": {
                        "application/vnd.dataresource+json": {
                            "schema": {
                                "fields": [
                                    {
                                        "name": "row_type"
                                    },
                                    {
                                        "name": "(No column name)"
                                    }
                                ]
                            },
                            "data": [
                                {
                                    "row_type": "Non Empty",
                                    "(No column name)": "21"
                                }
                            ]
                        },
                        "text/html": [
                            "<table>",
                            "<tr><th>row_type</th><th>(No column name)</th></tr>",
                            "<tr><td>Non Empty</td><td>21</td></tr>",
                            "</table>"
                        ]
                    }
                }
            ],
            "execution_count": 17
        },
        {
            "cell_type": "code",
            "source": [
                "SELECT \r\n",
                "    nev AS value, \r\n",
                "    COUNT(*) row_count\r\n",
                "from Vendeg\r\n",
                "WHERE nev IS NOT null\r\n",
                "GROUP BY nev\r\n",
                "ORDER BY nev"
            ],
            "metadata": {
                "azdata_cell_guid": "4d798cea-98cd-4082-a1ce-82546d082732",
                "language": "sql"
            },
            "outputs": [
                {
                    "output_type": "display_data",
                    "data": {
                        "text/html": "(196 rows affected)"
                    },
                    "metadata": {}
                },
                {
                    "output_type": "display_data",
                    "data": {
                        "text/html": "Total execution time: 00:00:00.100"
                    },
                    "metadata": {}
                },
                {
                    "output_type": "execute_result",
                    "metadata": {},
                    "execution_count": 18,
                    "data": {
                        "application/vnd.dataresource+json": {
                            "schema": {
                                "fields": [
                                    {
                                        "name": "value"
                                    },
                                    {
                                        "name": "row_count"
                                    }
                                ]
                            },
                            "data": [
                                {
                                    "value": "Ambrus Dávid",
                                    "row_count": "1"
                                },
                                {
                                    "value": "Andor Ibolya",
                                    "row_count": "1"
                                },
                                {
                                    "value": "Antal László",
                                    "row_count": "1"
                                },
                                {
                                    "value": "Antal Tamás",
                                    "row_count": "1"
                                },
                                {
                                    "value": "Back András",
                                    "row_count": "1"
                                },
                                {
                                    "value": "Bagi Beáta",
                                    "row_count": "1"
                                },
                                {
                                    "value": "Bagóczki Alexandra",
                                    "row_count": "1"
                                },
                                {
                                    "value": "Bajusz Bence",
                                    "row_count": "1"
                                },
                                {
                                    "value": "Bakó Klaudia",
                                    "row_count": "1"
                                },
                                {
                                    "value": "Bakódy Balázs",
                                    "row_count": "1"
                                },
                                {
                                    "value": "Balla Miklós",
                                    "row_count": "1"
                                },
                                {
                                    "value": "Balogh Eszter",
                                    "row_count": "1"
                                },
                                {
                                    "value": "Barabás Pál",
                                    "row_count": "1"
                                },
                                {
                                    "value": "Baráth Mária",
                                    "row_count": "1"
                                },
                                {
                                    "value": "Bárci Gusztáv",
                                    "row_count": "1"
                                },
                                {
                                    "value": "Barkóci Ádám",
                                    "row_count": "1"
                                },
                                {
                                    "value": "Barna Debóra",
                                    "row_count": "1"
                                },
                                {
                                    "value": "Barna Zoltán",
                                    "row_count": "1"
                                },
                                {
                                    "value": "Baróti Attila",
                                    "row_count": "1"
                                },
                                {
                                    "value": "Barta Zsuzsanna",
                                    "row_count": "1"
                                },
                                {
                                    "value": "Berendi Péter",
                                    "row_count": "1"
                                },
                                {
                                    "value": "Béres Norbert",
                                    "row_count": "1"
                                },
                                {
                                    "value": "Berta Dávid",
                                    "row_count": "1"
                                },
                                {
                                    "value": "Bieniek Ádám",
                                    "row_count": "1"
                                },
                                {
                                    "value": "Bíró Ákos",
                                    "row_count": "1"
                                },
                                {
                                    "value": "Bíró Péter",
                                    "row_count": "1"
                                },
                                {
                                    "value": "Bittmann Edit",
                                    "row_count": "1"
                                },
                                {
                                    "value": "Bodor Szabolcs",
                                    "row_count": "1"
                                },
                                {
                                    "value": "Bori Krisztina",
                                    "row_count": "1"
                                },
                                {
                                    "value": "Boros Vivien",
                                    "row_count": "1"
                                },
                                {
                                    "value": "Bosnyák Ilona",
                                    "row_count": "1"
                                },
                                {
                                    "value": "Botka Mátyás",
                                    "row_count": "1"
                                },
                                {
                                    "value": "Bozsik Balázs",
                                    "row_count": "1"
                                },
                                {
                                    "value": "Bozsó Péter",
                                    "row_count": "1"
                                },
                                {
                                    "value": "Böröcz Anikó",
                                    "row_count": "1"
                                },
                                {
                                    "value": "Bucskó Róza",
                                    "row_count": "1"
                                },
                                {
                                    "value": "Búza Imre",
                                    "row_count": "1"
                                },
                                {
                                    "value": "Czérna Krisztián",
                                    "row_count": "1"
                                },
                                {
                                    "value": "Csiger Bertalan",
                                    "row_count": "1"
                                },
                                {
                                    "value": "Csóti Attila",
                                    "row_count": "1"
                                },
                                {
                                    "value": "Dániel Tibor",
                                    "row_count": "1"
                                },
                                {
                                    "value": "Dunai Aladár",
                                    "row_count": "1"
                                },
                                {
                                    "value": "Dusha Tímea",
                                    "row_count": "1"
                                },
                                {
                                    "value": "Endresz Bálint",
                                    "row_count": "1"
                                },
                                {
                                    "value": "Enyedi Éva",
                                    "row_count": "1"
                                },
                                {
                                    "value": "Erdei András",
                                    "row_count": "1"
                                },
                                {
                                    "value": "Érsek Eszter",
                                    "row_count": "1"
                                },
                                {
                                    "value": "Farkas Béla",
                                    "row_count": "1"
                                },
                                {
                                    "value": "Farkas László",
                                    "row_count": "1"
                                },
                                {
                                    "value": "Farkas Sándor",
                                    "row_count": "1"
                                },
                                {
                                    "value": "Farkas Sára",
                                    "row_count": "1"
                                },
                                {
                                    "value": "Fényes Tamás",
                                    "row_count": "1"
                                },
                                {
                                    "value": "Ferencz Roland",
                                    "row_count": "1"
                                },
                                {
                                    "value": "Feró Valentin",
                                    "row_count": "1"
                                },
                                {
                                    "value": "Fodor Zoltán",
                                    "row_count": "1"
                                },
                                {
                                    "value": "Foltényi Sebastián",
                                    "row_count": "1"
                                },
                                {
                                    "value": "Fő Nándor",
                                    "row_count": "1"
                                },
                                {
                                    "value": "Frank Fruzsina",
                                    "row_count": "1"
                                },
                                {
                                    "value": "Fülöp Eszter",
                                    "row_count": "1"
                                },
                                {
                                    "value": "Gergely József",
                                    "row_count": "1"
                                },
                                {
                                    "value": "Giliga János",
                                    "row_count": "1"
                                },
                                {
                                    "value": "Gombos Tibor",
                                    "row_count": "1"
                                },
                                {
                                    "value": "Gondos Katalin",
                                    "row_count": "1"
                                },
                                {
                                    "value": "Gondos Miklós",
                                    "row_count": "1"
                                },
                                {
                                    "value": "Gulyás Attila",
                                    "row_count": "1"
                                },
                                {
                                    "value": "Gyárfás Krisztina",
                                    "row_count": "1"
                                },
                                {
                                    "value": "Győrffy Bence",
                                    "row_count": "1"
                                },
                                {
                                    "value": "Gyuris József",
                                    "row_count": "1"
                                },
                                {
                                    "value": "Hamvay-Kovács Anita",
                                    "row_count": "1"
                                },
                                {
                                    "value": "Harangozó János",
                                    "row_count": "1"
                                },
                                {
                                    "value": "Hartyánszky Ágnes",
                                    "row_count": "1"
                                },
                                {
                                    "value": "Hegedűs Norbert",
                                    "row_count": "1"
                                },
                                {
                                    "value": "Hídasi Judit",
                                    "row_count": "1"
                                },
                                {
                                    "value": "Horváth Ágnes",
                                    "row_count": "1"
                                },
                                {
                                    "value": "Horváth Árpád",
                                    "row_count": "1"
                                },
                                {
                                    "value": "Horváth Bálint",
                                    "row_count": "1"
                                },
                                {
                                    "value": "Horváth Katalin",
                                    "row_count": "1"
                                },
                                {
                                    "value": "Horváth Krisztina",
                                    "row_count": "1"
                                },
                                {
                                    "value": "Horváth Márk",
                                    "row_count": "1"
                                },
                                {
                                    "value": "Horváth Nikolett",
                                    "row_count": "1"
                                },
                                {
                                    "value": "Iván Róbert",
                                    "row_count": "1"
                                },
                                {
                                    "value": "Jakab Áron",
                                    "row_count": "1"
                                },
                                {
                                    "value": "Józsa Zsolt",
                                    "row_count": "1"
                                },
                                {
                                    "value": "Juhász Mihály",
                                    "row_count": "1"
                                },
                                {
                                    "value": "Kalacsi Márton",
                                    "row_count": "1"
                                },
                                {
                                    "value": "Karasz Sándor",
                                    "row_count": "1"
                                },
                                {
                                    "value": "Kardos Renáta",
                                    "row_count": "1"
                                },
                                {
                                    "value": "Kazy Tihamér",
                                    "row_count": "1"
                                },
                                {
                                    "value": "Kelemen Áron",
                                    "row_count": "1"
                                },
                                {
                                    "value": "Kerényi Beatrix",
                                    "row_count": "1"
                                },
                                {
                                    "value": "Keresztúri Viktor",
                                    "row_count": "1"
                                },
                                {
                                    "value": "Kertész Katalin",
                                    "row_count": "1"
                                },
                                {
                                    "value": "Keszler Dániel",
                                    "row_count": "1"
                                },
                                {
                                    "value": "Kispál Márk",
                                    "row_count": "1"
                                },
                                {
                                    "value": "Kiss Ádám",
                                    "row_count": "1"
                                },
                                {
                                    "value": "Kiss Andrea",
                                    "row_count": "1"
                                },
                                {
                                    "value": "Kiss Lajos",
                                    "row_count": "1"
                                },
                                {
                                    "value": "Komjáti András",
                                    "row_count": "1"
                                },
                                {
                                    "value": "Kornseé Gyöngyi",
                                    "row_count": "1"
                                },
                                {
                                    "value": "Kovács Ágnes",
                                    "row_count": "1"
                                },
                                {
                                    "value": "Kovács Bernadett",
                                    "row_count": "1"
                                },
                                {
                                    "value": "Kovács Katalin",
                                    "row_count": "1"
                                },
                                {
                                    "value": "Koza Máté",
                                    "row_count": "1"
                                },
                                {
                                    "value": "Kozma Péter",
                                    "row_count": "1"
                                },
                                {
                                    "value": "Kő Nikoletta",
                                    "row_count": "1"
                                },
                                {
                                    "value": "Köves Gábor",
                                    "row_count": "1"
                                },
                                {
                                    "value": "Kuruc Emese",
                                    "row_count": "1"
                                },
                                {
                                    "value": "Lengyel Ágnes",
                                    "row_count": "1"
                                },
                                {
                                    "value": "Lukács Kornél",
                                    "row_count": "1"
                                },
                                {
                                    "value": "Maródi Andrea",
                                    "row_count": "1"
                                },
                                {
                                    "value": "Miklós Szabolcs",
                                    "row_count": "1"
                                },
                                {
                                    "value": "Miklós Tamara",
                                    "row_count": "1"
                                },
                                {
                                    "value": "Mile Norbert",
                                    "row_count": "1"
                                },
                                {
                                    "value": "Mogyródi Krisztián",
                                    "row_count": "1"
                                },
                                {
                                    "value": "Mohos Mónika",
                                    "row_count": "1"
                                },
                                {
                                    "value": "Molnár András",
                                    "row_count": "1"
                                },
                                {
                                    "value": "Molnár Bálint",
                                    "row_count": "1"
                                },
                                {
                                    "value": "Molnár Eszter",
                                    "row_count": "1"
                                },
                                {
                                    "value": "Molnár Zsófi",
                                    "row_count": "1"
                                },
                                {
                                    "value": "Móra László",
                                    "row_count": "1"
                                },
                                {
                                    "value": "Móricz Árpád",
                                    "row_count": "1"
                                },
                                {
                                    "value": "Nádudvari Henrik",
                                    "row_count": "1"
                                },
                                {
                                    "value": "Nagy András",
                                    "row_count": "1"
                                },
                                {
                                    "value": "Nagy Gabriella",
                                    "row_count": "1"
                                },
                                {
                                    "value": "Nagy Júlia",
                                    "row_count": "1"
                                },
                                {
                                    "value": "Nagy László",
                                    "row_count": "1"
                                },
                                {
                                    "value": "Nagy Sándor",
                                    "row_count": "1"
                                },
                                {
                                    "value": "Nagymihály Csongor",
                                    "row_count": "1"
                                },
                                {
                                    "value": "Nagymihály Lajos",
                                    "row_count": "1"
                                },
                                {
                                    "value": "Neizer Andrea",
                                    "row_count": "1"
                                },
                                {
                                    "value": "Nyíri Georgij",
                                    "row_count": "1"
                                },
                                {
                                    "value": "Opra Attila",
                                    "row_count": "1"
                                },
                                {
                                    "value": "Orbán Bernadett",
                                    "row_count": "1"
                                },
                                {
                                    "value": "Orosz Ferenc",
                                    "row_count": "1"
                                },
                                {
                                    "value": "Oroszi György",
                                    "row_count": "1"
                                },
                                {
                                    "value": "Ötvös Árpád",
                                    "row_count": "1"
                                },
                                {
                                    "value": "Palágyi Polla",
                                    "row_count": "1"
                                },
                                {
                                    "value": "Pálinkás János",
                                    "row_count": "1"
                                },
                                {
                                    "value": "Papós Tímea",
                                    "row_count": "1"
                                },
                                {
                                    "value": "Papp Imre",
                                    "row_count": "1"
                                },
                                {
                                    "value": "Pásztor Róbert",
                                    "row_count": "1"
                                },
                                {
                                    "value": "Pataki Brigitta",
                                    "row_count": "1"
                                },
                                {
                                    "value": "Patay Róbert",
                                    "row_count": "1"
                                },
                                {
                                    "value": "Perlinger Éva",
                                    "row_count": "1"
                                },
                                {
                                    "value": "Pintér Zoltán",
                                    "row_count": "1"
                                },
                                {
                                    "value": "Pivarcsi Anett",
                                    "row_count": "1"
                                },
                                {
                                    "value": "Poprádi Kristóf",
                                    "row_count": "1"
                                },
                                {
                                    "value": "Pulai Zsolt",
                                    "row_count": "1"
                                },
                                {
                                    "value": "Pusztai Zsuzsanna",
                                    "row_count": "1"
                                },
                                {
                                    "value": "Rab Sebestyén",
                                    "row_count": "1"
                                },
                                {
                                    "value": "Rácz Dániel",
                                    "row_count": "1"
                                },
                                {
                                    "value": "Rácz Rajmond",
                                    "row_count": "1"
                                },
                                {
                                    "value": "Regős Annamária",
                                    "row_count": "1"
                                },
                                {
                                    "value": "Sarodi Dóra",
                                    "row_count": "1"
                                },
                                {
                                    "value": "Simon Anikó",
                                    "row_count": "1"
                                },
                                {
                                    "value": "Simon Bernadett",
                                    "row_count": "1"
                                },
                                {
                                    "value": "Sobják Dávid",
                                    "row_count": "1"
                                },
                                {
                                    "value": "Soós István",
                                    "row_count": "1"
                                },
                                {
                                    "value": "Szabó Julianna",
                                    "row_count": "1"
                                },
                                {
                                    "value": "Szalai Péter",
                                    "row_count": "1"
                                },
                                {
                                    "value": "Szalai Szilárd",
                                    "row_count": "1"
                                },
                                {
                                    "value": "Szedlár Krisztina",
                                    "row_count": "1"
                                },
                                {
                                    "value": "Székely Brigitta",
                                    "row_count": "1"
                                },
                                {
                                    "value": "Szekendi Beatrix",
                                    "row_count": "1"
                                },
                                {
                                    "value": "Szikszai Réka",
                                    "row_count": "1"
                                },
                                {
                                    "value": "Szilágyi Mátyás",
                                    "row_count": "1"
                                },
                                {
                                    "value": "Szirmai Renáta",
                                    "row_count": "1"
                                },
                                {
                                    "value": "Szomor Andrea",
                                    "row_count": "1"
                                },
                                {
                                    "value": "Szöllősi Gábor",
                                    "row_count": "1"
                                },
                                {
                                    "value": "Szűcs Annamária",
                                    "row_count": "1"
                                },
                                {
                                    "value": "Szűcs Balázs",
                                    "row_count": "1"
                                },
                                {
                                    "value": "Szűcs Norbert",
                                    "row_count": "1"
                                },
                                {
                                    "value": "Tankó Veronika",
                                    "row_count": "1"
                                },
                                {
                                    "value": "Tari Szilvia",
                                    "row_count": "1"
                                },
                                {
                                    "value": "Tatár Nikoletta",
                                    "row_count": "1"
                                },
                                {
                                    "value": "Telek Gábor",
                                    "row_count": "1"
                                },
                                {
                                    "value": "Tornyos Andrea",
                                    "row_count": "1"
                                },
                                {
                                    "value": "Tóth András",
                                    "row_count": "1"
                                },
                                {
                                    "value": "Tóth Anikó",
                                    "row_count": "1"
                                },
                                {
                                    "value": "Tóth Júlia",
                                    "row_count": "1"
                                },
                                {
                                    "value": "Tóth Roland",
                                    "row_count": "1"
                                },
                                {
                                    "value": "Tóth Zoltán",
                                    "row_count": "1"
                                },
                                {
                                    "value": "Tömböly Dénes",
                                    "row_count": "1"
                                },
                                {
                                    "value": "Turcsik Tünde",
                                    "row_count": "1"
                                },
                                {
                                    "value": "Urbán Viktoria",
                                    "row_count": "1"
                                },
                                {
                                    "value": "Vajda József",
                                    "row_count": "1"
                                },
                                {
                                    "value": "Vajda Zsuzsa",
                                    "row_count": "1"
                                },
                                {
                                    "value": "Varga István",
                                    "row_count": "1"
                                },
                                {
                                    "value": "Varsányi Zsuzsa",
                                    "row_count": "1"
                                },
                                {
                                    "value": "Vida Gabriella",
                                    "row_count": "1"
                                },
                                {
                                    "value": "Vígh András",
                                    "row_count": "1"
                                },
                                {
                                    "value": "Viktor Éva",
                                    "row_count": "1"
                                },
                                {
                                    "value": "Vizi István",
                                    "row_count": "1"
                                },
                                {
                                    "value": "Vörös Dániel",
                                    "row_count": "1"
                                },
                                {
                                    "value": "Vukasinovity Bálint",
                                    "row_count": "1"
                                },
                                {
                                    "value": "Zatykó Katalin",
                                    "row_count": "1"
                                }
                            ]
                        },
                        "text/html": [
                            "<table>",
                            "<tr><th>value</th><th>row_count</th></tr>",
                            "<tr><td>Ambrus Dávid</td><td>1</td></tr>",
                            "<tr><td>Andor Ibolya</td><td>1</td></tr>",
                            "<tr><td>Antal László</td><td>1</td></tr>",
                            "<tr><td>Antal Tamás</td><td>1</td></tr>",
                            "<tr><td>Back András</td><td>1</td></tr>",
                            "<tr><td>Bagi Beáta</td><td>1</td></tr>",
                            "<tr><td>Bagóczki Alexandra</td><td>1</td></tr>",
                            "<tr><td>Bajusz Bence</td><td>1</td></tr>",
                            "<tr><td>Bakó Klaudia</td><td>1</td></tr>",
                            "<tr><td>Bakódy Balázs</td><td>1</td></tr>",
                            "<tr><td>Balla Miklós</td><td>1</td></tr>",
                            "<tr><td>Balogh Eszter</td><td>1</td></tr>",
                            "<tr><td>Barabás Pál</td><td>1</td></tr>",
                            "<tr><td>Baráth Mária</td><td>1</td></tr>",
                            "<tr><td>Bárci Gusztáv</td><td>1</td></tr>",
                            "<tr><td>Barkóci Ádám</td><td>1</td></tr>",
                            "<tr><td>Barna Debóra</td><td>1</td></tr>",
                            "<tr><td>Barna Zoltán</td><td>1</td></tr>",
                            "<tr><td>Baróti Attila</td><td>1</td></tr>",
                            "<tr><td>Barta Zsuzsanna</td><td>1</td></tr>",
                            "<tr><td>Berendi Péter</td><td>1</td></tr>",
                            "<tr><td>Béres Norbert</td><td>1</td></tr>",
                            "<tr><td>Berta Dávid</td><td>1</td></tr>",
                            "<tr><td>Bieniek Ádám</td><td>1</td></tr>",
                            "<tr><td>Bíró Ákos</td><td>1</td></tr>",
                            "<tr><td>Bíró Péter</td><td>1</td></tr>",
                            "<tr><td>Bittmann Edit</td><td>1</td></tr>",
                            "<tr><td>Bodor Szabolcs</td><td>1</td></tr>",
                            "<tr><td>Bori Krisztina</td><td>1</td></tr>",
                            "<tr><td>Boros Vivien</td><td>1</td></tr>",
                            "<tr><td>Bosnyák Ilona</td><td>1</td></tr>",
                            "<tr><td>Botka Mátyás</td><td>1</td></tr>",
                            "<tr><td>Bozsik Balázs</td><td>1</td></tr>",
                            "<tr><td>Bozsó Péter</td><td>1</td></tr>",
                            "<tr><td>Böröcz Anikó</td><td>1</td></tr>",
                            "<tr><td>Bucskó Róza</td><td>1</td></tr>",
                            "<tr><td>Búza Imre</td><td>1</td></tr>",
                            "<tr><td>Czérna Krisztián</td><td>1</td></tr>",
                            "<tr><td>Csiger Bertalan</td><td>1</td></tr>",
                            "<tr><td>Csóti Attila</td><td>1</td></tr>",
                            "<tr><td>Dániel Tibor</td><td>1</td></tr>",
                            "<tr><td>Dunai Aladár</td><td>1</td></tr>",
                            "<tr><td>Dusha Tímea</td><td>1</td></tr>",
                            "<tr><td>Endresz Bálint</td><td>1</td></tr>",
                            "<tr><td>Enyedi Éva</td><td>1</td></tr>",
                            "<tr><td>Erdei András</td><td>1</td></tr>",
                            "<tr><td>Érsek Eszter</td><td>1</td></tr>",
                            "<tr><td>Farkas Béla</td><td>1</td></tr>",
                            "<tr><td>Farkas László</td><td>1</td></tr>",
                            "<tr><td>Farkas Sándor</td><td>1</td></tr>",
                            "<tr><td>Farkas Sára</td><td>1</td></tr>",
                            "<tr><td>Fényes Tamás</td><td>1</td></tr>",
                            "<tr><td>Ferencz Roland</td><td>1</td></tr>",
                            "<tr><td>Feró Valentin</td><td>1</td></tr>",
                            "<tr><td>Fodor Zoltán</td><td>1</td></tr>",
                            "<tr><td>Foltényi Sebastián</td><td>1</td></tr>",
                            "<tr><td>Fő Nándor</td><td>1</td></tr>",
                            "<tr><td>Frank Fruzsina</td><td>1</td></tr>",
                            "<tr><td>Fülöp Eszter</td><td>1</td></tr>",
                            "<tr><td>Gergely József</td><td>1</td></tr>",
                            "<tr><td>Giliga János</td><td>1</td></tr>",
                            "<tr><td>Gombos Tibor</td><td>1</td></tr>",
                            "<tr><td>Gondos Katalin</td><td>1</td></tr>",
                            "<tr><td>Gondos Miklós</td><td>1</td></tr>",
                            "<tr><td>Gulyás Attila</td><td>1</td></tr>",
                            "<tr><td>Gyárfás Krisztina</td><td>1</td></tr>",
                            "<tr><td>Győrffy Bence</td><td>1</td></tr>",
                            "<tr><td>Gyuris József</td><td>1</td></tr>",
                            "<tr><td>Hamvay-Kovács Anita</td><td>1</td></tr>",
                            "<tr><td>Harangozó János</td><td>1</td></tr>",
                            "<tr><td>Hartyánszky Ágnes</td><td>1</td></tr>",
                            "<tr><td>Hegedűs Norbert</td><td>1</td></tr>",
                            "<tr><td>Hídasi Judit</td><td>1</td></tr>",
                            "<tr><td>Horváth Ágnes</td><td>1</td></tr>",
                            "<tr><td>Horváth Árpád</td><td>1</td></tr>",
                            "<tr><td>Horváth Bálint</td><td>1</td></tr>",
                            "<tr><td>Horváth Katalin</td><td>1</td></tr>",
                            "<tr><td>Horváth Krisztina</td><td>1</td></tr>",
                            "<tr><td>Horváth Márk</td><td>1</td></tr>",
                            "<tr><td>Horváth Nikolett</td><td>1</td></tr>",
                            "<tr><td>Iván Róbert</td><td>1</td></tr>",
                            "<tr><td>Jakab Áron</td><td>1</td></tr>",
                            "<tr><td>Józsa Zsolt</td><td>1</td></tr>",
                            "<tr><td>Juhász Mihály</td><td>1</td></tr>",
                            "<tr><td>Kalacsi Márton</td><td>1</td></tr>",
                            "<tr><td>Karasz Sándor</td><td>1</td></tr>",
                            "<tr><td>Kardos Renáta</td><td>1</td></tr>",
                            "<tr><td>Kazy Tihamér</td><td>1</td></tr>",
                            "<tr><td>Kelemen Áron</td><td>1</td></tr>",
                            "<tr><td>Kerényi Beatrix</td><td>1</td></tr>",
                            "<tr><td>Keresztúri Viktor</td><td>1</td></tr>",
                            "<tr><td>Kertész Katalin</td><td>1</td></tr>",
                            "<tr><td>Keszler Dániel</td><td>1</td></tr>",
                            "<tr><td>Kispál Márk</td><td>1</td></tr>",
                            "<tr><td>Kiss Ádám</td><td>1</td></tr>",
                            "<tr><td>Kiss Andrea</td><td>1</td></tr>",
                            "<tr><td>Kiss Lajos</td><td>1</td></tr>",
                            "<tr><td>Komjáti András</td><td>1</td></tr>",
                            "<tr><td>Kornseé Gyöngyi</td><td>1</td></tr>",
                            "<tr><td>Kovács Ágnes</td><td>1</td></tr>",
                            "<tr><td>Kovács Bernadett</td><td>1</td></tr>",
                            "<tr><td>Kovács Katalin</td><td>1</td></tr>",
                            "<tr><td>Koza Máté</td><td>1</td></tr>",
                            "<tr><td>Kozma Péter</td><td>1</td></tr>",
                            "<tr><td>Kő Nikoletta</td><td>1</td></tr>",
                            "<tr><td>Köves Gábor</td><td>1</td></tr>",
                            "<tr><td>Kuruc Emese</td><td>1</td></tr>",
                            "<tr><td>Lengyel Ágnes</td><td>1</td></tr>",
                            "<tr><td>Lukács Kornél</td><td>1</td></tr>",
                            "<tr><td>Maródi Andrea</td><td>1</td></tr>",
                            "<tr><td>Miklós Szabolcs</td><td>1</td></tr>",
                            "<tr><td>Miklós Tamara</td><td>1</td></tr>",
                            "<tr><td>Mile Norbert</td><td>1</td></tr>",
                            "<tr><td>Mogyródi Krisztián</td><td>1</td></tr>",
                            "<tr><td>Mohos Mónika</td><td>1</td></tr>",
                            "<tr><td>Molnár András</td><td>1</td></tr>",
                            "<tr><td>Molnár Bálint</td><td>1</td></tr>",
                            "<tr><td>Molnár Eszter</td><td>1</td></tr>",
                            "<tr><td>Molnár Zsófi</td><td>1</td></tr>",
                            "<tr><td>Móra László</td><td>1</td></tr>",
                            "<tr><td>Móricz Árpád</td><td>1</td></tr>",
                            "<tr><td>Nádudvari Henrik</td><td>1</td></tr>",
                            "<tr><td>Nagy András</td><td>1</td></tr>",
                            "<tr><td>Nagy Gabriella</td><td>1</td></tr>",
                            "<tr><td>Nagy Júlia</td><td>1</td></tr>",
                            "<tr><td>Nagy László</td><td>1</td></tr>",
                            "<tr><td>Nagy Sándor</td><td>1</td></tr>",
                            "<tr><td>Nagymihály Csongor</td><td>1</td></tr>",
                            "<tr><td>Nagymihály Lajos</td><td>1</td></tr>",
                            "<tr><td>Neizer Andrea</td><td>1</td></tr>",
                            "<tr><td>Nyíri Georgij</td><td>1</td></tr>",
                            "<tr><td>Opra Attila</td><td>1</td></tr>",
                            "<tr><td>Orbán Bernadett</td><td>1</td></tr>",
                            "<tr><td>Orosz Ferenc</td><td>1</td></tr>",
                            "<tr><td>Oroszi György</td><td>1</td></tr>",
                            "<tr><td>Ötvös Árpád</td><td>1</td></tr>",
                            "<tr><td>Palágyi Polla</td><td>1</td></tr>",
                            "<tr><td>Pálinkás János</td><td>1</td></tr>",
                            "<tr><td>Papós Tímea</td><td>1</td></tr>",
                            "<tr><td>Papp Imre</td><td>1</td></tr>",
                            "<tr><td>Pásztor Róbert</td><td>1</td></tr>",
                            "<tr><td>Pataki Brigitta</td><td>1</td></tr>",
                            "<tr><td>Patay Róbert</td><td>1</td></tr>",
                            "<tr><td>Perlinger Éva</td><td>1</td></tr>",
                            "<tr><td>Pintér Zoltán</td><td>1</td></tr>",
                            "<tr><td>Pivarcsi Anett</td><td>1</td></tr>",
                            "<tr><td>Poprádi Kristóf</td><td>1</td></tr>",
                            "<tr><td>Pulai Zsolt</td><td>1</td></tr>",
                            "<tr><td>Pusztai Zsuzsanna</td><td>1</td></tr>",
                            "<tr><td>Rab Sebestyén</td><td>1</td></tr>",
                            "<tr><td>Rácz Dániel</td><td>1</td></tr>",
                            "<tr><td>Rácz Rajmond</td><td>1</td></tr>",
                            "<tr><td>Regős Annamária</td><td>1</td></tr>",
                            "<tr><td>Sarodi Dóra</td><td>1</td></tr>",
                            "<tr><td>Simon Anikó</td><td>1</td></tr>",
                            "<tr><td>Simon Bernadett</td><td>1</td></tr>",
                            "<tr><td>Sobják Dávid</td><td>1</td></tr>",
                            "<tr><td>Soós István</td><td>1</td></tr>",
                            "<tr><td>Szabó Julianna</td><td>1</td></tr>",
                            "<tr><td>Szalai Péter</td><td>1</td></tr>",
                            "<tr><td>Szalai Szilárd</td><td>1</td></tr>",
                            "<tr><td>Szedlár Krisztina</td><td>1</td></tr>",
                            "<tr><td>Székely Brigitta</td><td>1</td></tr>",
                            "<tr><td>Szekendi Beatrix</td><td>1</td></tr>",
                            "<tr><td>Szikszai Réka</td><td>1</td></tr>",
                            "<tr><td>Szilágyi Mátyás</td><td>1</td></tr>",
                            "<tr><td>Szirmai Renáta</td><td>1</td></tr>",
                            "<tr><td>Szomor Andrea</td><td>1</td></tr>",
                            "<tr><td>Szöllősi Gábor</td><td>1</td></tr>",
                            "<tr><td>Szűcs Annamária</td><td>1</td></tr>",
                            "<tr><td>Szűcs Balázs</td><td>1</td></tr>",
                            "<tr><td>Szűcs Norbert</td><td>1</td></tr>",
                            "<tr><td>Tankó Veronika</td><td>1</td></tr>",
                            "<tr><td>Tari Szilvia</td><td>1</td></tr>",
                            "<tr><td>Tatár Nikoletta</td><td>1</td></tr>",
                            "<tr><td>Telek Gábor</td><td>1</td></tr>",
                            "<tr><td>Tornyos Andrea</td><td>1</td></tr>",
                            "<tr><td>Tóth András</td><td>1</td></tr>",
                            "<tr><td>Tóth Anikó</td><td>1</td></tr>",
                            "<tr><td>Tóth Júlia</td><td>1</td></tr>",
                            "<tr><td>Tóth Roland</td><td>1</td></tr>",
                            "<tr><td>Tóth Zoltán</td><td>1</td></tr>",
                            "<tr><td>Tömböly Dénes</td><td>1</td></tr>",
                            "<tr><td>Turcsik Tünde</td><td>1</td></tr>",
                            "<tr><td>Urbán Viktoria</td><td>1</td></tr>",
                            "<tr><td>Vajda József</td><td>1</td></tr>",
                            "<tr><td>Vajda Zsuzsa</td><td>1</td></tr>",
                            "<tr><td>Varga István</td><td>1</td></tr>",
                            "<tr><td>Varsányi Zsuzsa</td><td>1</td></tr>",
                            "<tr><td>Vida Gabriella</td><td>1</td></tr>",
                            "<tr><td>Vígh András</td><td>1</td></tr>",
                            "<tr><td>Viktor Éva</td><td>1</td></tr>",
                            "<tr><td>Vizi István</td><td>1</td></tr>",
                            "<tr><td>Vörös Dániel</td><td>1</td></tr>",
                            "<tr><td>Vukasinovity Bálint</td><td>1</td></tr>",
                            "<tr><td>Zatykó Katalin</td><td>1</td></tr>",
                            "</table>"
                        ]
                    }
                }
            ],
            "execution_count": 18
        },
        {
            "cell_type": "code",
            "source": [
                "SELECT AVG(FELNOTT_SZAM) AS value_avg\r\n",
                "FROM Foglalas\r\n",
                "WHERE FELNOTT_SZAM IS NOT NULL\r\n",
                ""
            ],
            "metadata": {
                "azdata_cell_guid": "c2a9be27-3ae9-4b52-b813-f601009f94b0",
                "language": "sql"
            },
            "outputs": [
                {
                    "output_type": "display_data",
                    "data": {
                        "text/html": "(1 row affected)"
                    },
                    "metadata": {}
                },
                {
                    "output_type": "display_data",
                    "data": {
                        "text/html": "Total execution time: 00:00:00.067"
                    },
                    "metadata": {}
                },
                {
                    "output_type": "execute_result",
                    "metadata": {},
                    "execution_count": 20,
                    "data": {
                        "application/vnd.dataresource+json": {
                            "schema": {
                                "fields": [
                                    {
                                        "name": "value_avg"
                                    }
                                ]
                            },
                            "data": [
                                {
                                    "value_avg": "1"
                                }
                            ]
                        },
                        "text/html": [
                            "<table>",
                            "<tr><th>value_avg</th></tr>",
                            "<tr><td>1</td></tr>",
                            "</table>"
                        ]
                    }
                }
            ],
            "execution_count": 20
        },
        {
            "cell_type": "code",
            "source": [
                "DECLARE \r\n",
                "@min int = 1,\r\n",
                "@max int = 3;   \r\n",
                "\r\n",
                "SELECT \r\n",
                "    SUM(CASE WHEN FEROHELY < @min THEN 1 ELSE 0 end) AS below_range,\r\n",
                "    SUM(CASE WHEN FEROHELY BETWEEN @min and @max THEN 1 ELSE 0 end) AS within_range,\r\n",
                "    SUM(CASE WHEN FEROHELY > @max THEN 1 ELSE 0 end) AS above_range\r\n",
                "FROM szoba"
            ],
            "metadata": {
                "azdata_cell_guid": "cf336f9b-060a-4e0f-8fb9-c8bce620ca5e",
                "language": "sql"
            },
            "outputs": [
                {
                    "output_type": "display_data",
                    "data": {
                        "text/html": "(1 row affected)"
                    },
                    "metadata": {}
                },
                {
                    "output_type": "display_data",
                    "data": {
                        "text/html": "Total execution time: 00:00:00.073"
                    },
                    "metadata": {}
                },
                {
                    "output_type": "execute_result",
                    "metadata": {},
                    "execution_count": 22,
                    "data": {
                        "application/vnd.dataresource+json": {
                            "schema": {
                                "fields": [
                                    {
                                        "name": "below_range"
                                    },
                                    {
                                        "name": "within_range"
                                    },
                                    {
                                        "name": "above_range"
                                    }
                                ]
                            },
                            "data": [
                                {
                                    "below_range": "0",
                                    "within_range": "293",
                                    "above_range": "1"
                                }
                            ]
                        },
                        "text/html": [
                            "<table>",
                            "<tr><th>below_range</th><th>within_range</th><th>above_range</th></tr>",
                            "<tr><td>0</td><td>293</td><td>1</td></tr>",
                            "</table>"
                        ]
                    }
                }
            ],
            "execution_count": 22
        },
        {
            "cell_type": "code",
            "source": [
                "SELECT COUNT(DISTINCT SZALLAS_ID) AS unique_values_count\r\n",
                "FROM Szallashely\r\n",
                "WHERE SZALLAS_ID IS NOT NULL"
            ],
            "metadata": {
                "azdata_cell_guid": "13f6e80e-1731-4870-b57e-eedb27005ccf",
                "language": "sql"
            },
            "outputs": [
                {
                    "output_type": "display_data",
                    "data": {
                        "text/html": "(1 row affected)"
                    },
                    "metadata": {}
                },
                {
                    "output_type": "display_data",
                    "data": {
                        "text/html": "Total execution time: 00:00:00.068"
                    },
                    "metadata": {}
                },
                {
                    "output_type": "execute_result",
                    "metadata": {},
                    "execution_count": 23,
                    "data": {
                        "application/vnd.dataresource+json": {
                            "schema": {
                                "fields": [
                                    {
                                        "name": "unique_values_count"
                                    }
                                ]
                            },
                            "data": [
                                {
                                    "unique_values_count": "21"
                                }
                            ]
                        },
                        "text/html": [
                            "<table>",
                            "<tr><th>unique_values_count</th></tr>",
                            "<tr><td>21</td></tr>",
                            "</table>"
                        ]
                    }
                }
            ],
            "execution_count": 23
        }
    ]
}